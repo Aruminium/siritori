{
  "nbformat": 4,
  "nbformat_minor": 0,
  "metadata": {
    "colab": {
      "provenance": [],
      "authorship_tag": "ABX9TyOxspdS3lRgqCVTt4VEOVPR",
      "include_colab_link": true
    },
    "kernelspec": {
      "name": "python3",
      "display_name": "Python 3"
    },
    "language_info": {
      "name": "python"
    }
  },
  "cells": [
    {
      "cell_type": "markdown",
      "metadata": {
        "id": "view-in-github",
        "colab_type": "text"
      },
      "source": [
        "<a href=\"https://colab.research.google.com/github/Aruminium/siritori/blob/main/siritori.ipynb\" target=\"_parent\"><img src=\"https://colab.research.google.com/assets/colab-badge.svg\" alt=\"Open In Colab\"/></a>"
      ]
    },
    {
      "cell_type": "code",
      "source": [
        "# git cloneする\n",
        "!git clone https://github.com/ku-nlp/KyotoCorpus"
      ],
      "metadata": {
        "id": "XX5Req2pHvzE"
      },
      "execution_count": null,
      "outputs": []
    },
    {
      "cell_type": "code",
      "source": [
        "# 先のKyotoCorpusにある　numファイルを取得する\n",
        "import os\n",
        "import glob\n",
        "\n",
        "files = glob.glob(\"KyotoCorpus/dat/num/*\")\n",
        "print(files)"
      ],
      "metadata": {
        "id": "vVwHgzRXIUGU"
      },
      "execution_count": null,
      "outputs": []
    },
    {
      "cell_type": "code",
      "source": [
        "import re\n",
        "\n",
        "# 念のために初期化 \n",
        "rep = \"\"\n",
        "rep_list = []\n",
        "\n",
        "# ひらがなを抽出する設定。このとき [\"はな\", \"ああ\"] みたいなリスト形式になる時がある. 大体は[\"はな\"]の様になる\n",
        "noun_regrex = re.compile(r'''(\n",
        "    [\\u3040-\\u309F]+\n",
        ")''', re.VERBOSE)\n",
        "\n",
        "for filename in files:\n",
        "    with open(filename, \"r\") as f:\n",
        "        for line in f:\n",
        "            if \"名詞\" and \"普通名詞\" in line:\n",
        "                # 実際にひらがなを抽出する\n",
        "                rep = noun_regrex.findall(line)\n",
        "                # リストがから [] でない時にrep_listに要素を追加する\n",
        "                if rep:\n",
        "                    rep_list.append(rep[0])\n",
        "# 重複文字を取り除く (list型 -> set型 -> list型)\n",
        "rep_list = list(set(rep_list))\n",
        "# あいうえお順にソートする\n",
        "rep_list.sort()\n",
        "# output.txtに書き込む withを使うと暗黙的にcloseしてくれる\n",
        "with open(\"output.txt\", \"w\", encoding='UTF-8') as output:\n",
        "    for rep in rep_list:\n",
        "        output.write(rep+\"\\n\")"
      ],
      "metadata": {
        "id": "ndWaKvTPKawm"
      },
      "execution_count": null,
      "outputs": []
    },
    {
      "cell_type": "code",
      "source": [
        "from typing import List, Tuple\n",
        "import random\n",
        "import re\n",
        "from enum import Enum, unique\n",
        "\n",
        "@unique\n",
        "class FlagType(Enum):\n",
        "    USER_WIN = 1\n",
        "    USER_LOSE = 2\n",
        "    CONTINUE = 3\n",
        "\n",
        "class Siritori:\n",
        "    def __init__(self, txt_file: str):\n",
        "        self.siritori_list = []\n",
        "        # ゲームで使われた単語を入れるリスト\n",
        "        self.game_siritori_list = []\n",
        "        self.old_noun = \"しりとり\"\n",
        "        self.hiragana_you_on_dict = {\"ぁ\": \"あ\",\"ぃ\": \"い\",\"ぅ\": \"う\", \"ぇ\": \"え\", \"ぉ\": \"お\", \"っ\": \"つ\", \"ゃ\": \"や\", \"ゅ\": \"ゆ\", \"ょ\": \"よ\", \"ゎ\": \"わ\", \"ゕ\": \"か\", \"ゖ\": \"け\" }\n",
        "        with open(txt_file, \"r\", encoding='UTF-8') as lines:\n",
        "            # 1行ずつ読み取る\n",
        "            for line in lines:\n",
        "                self.siritori_list.append(line.replace(\"\\n\",\"\"))\n",
        "        print(\"しりとり\")\n",
        "    def __return_nextnoun_list(self, text: str) -> List[str] or FlagType:\n",
        "        '''\n",
        "        入力されたテキストの最後の文字から始まる名詞のリストを返す\n",
        "\n",
        "        Args:\n",
        "            text (str): テキスト\n",
        "\n",
        "        Returns:\n",
        "            List[str]: 入力されたテキストの最後の文字から始まる名詞のリスト\n",
        "        '''\n",
        "        pattern=re.compile(r'^'+text[-1])\n",
        "        str_match = [s for s in self.siritori_list if re.match(pattern, s)]\n",
        "        if not str_match:\n",
        "            return FlagType.USER_WIN.value\n",
        "        return str_match\n",
        "    def return_nextnoun(self, noun: str) -> Tuple[str, FlagType]:\n",
        "        '''\n",
        "        次の語句を返す\n",
        "\n",
        "        Args:\n",
        "            noun (str): プレイヤーが入力した語句\n",
        "\n",
        "        Returns:\n",
        "            Tuple[str, bool]: str: 次の語句 or 終了メッセージ, FlagType: 終了か続行\n",
        "        '''\n",
        "        # 返答できているか確認する\n",
        "        #同じ単語を使っていないかを確かめる\n",
        "        if noun in self.game_siritori_list:\n",
        "            return f\"{noun}は、すでに使われているのだ。あなたの負け\", FlagType.USER_LOSE.value\n",
        "        # 今回は語尾に「ー」がある場合はその１つ前の文字を参照する\n",
        "        # ※語尾に小文字があるかどうかは確認していない\n",
        "        if noun[-1] == \"ー\":\n",
        "            # 「ー」を抜いた変数に置き換える\n",
        "            # 例 ルビー → ルビ\n",
        "            noun = noun[0:-1]\n",
        "        # ユーザが前の単語の語尾から始まる単語を入力したか確認する\n",
        "        if not self.old_noun[-1] == noun[0]:\n",
        "            return self.old_noun[-1]+\"から始まっていません\\n\"+\"あなたの負け\", FlagType.USER_LOSE.value\n",
        "        # プレイヤーの返答が\"ん\"で終わっているかを確認する\n",
        "        if self.__is_finish_nn(noun):\n",
        "            return \"んで終わっています\\nあなたの負け\", FlagType.USER_LOSE.value\n",
        "        self.game_siritori_list.append(noun)\n",
        "\n",
        "        # ここからはCPU側の処理\n",
        "        first_character_list = self.__return_nextnoun_list(noun)\n",
        "        # 返す語句があるかどうかを確認する\n",
        "        if first_character_list is None:\n",
        "            return \"返す語句がありません。\\nあなたの勝ち\", FlagType.USER_WIN.value\n",
        "\n",
        "        # listをシャッフルする\n",
        "        random.shuffle(first_character_list)\n",
        "        # listの先頭を返し、その要素を削除する.また、その要素が\"ん\"で終わっているかを確認する\n",
        "        # この時点ではsiritori_listの方は消えてない\n",
        "        next_noun = first_character_list.pop()\n",
        "        # siritori_listの方からも消す\n",
        "        self.siritori_list.remove(next_noun)\n",
        "\n",
        "        if next_noun[-1] == \"ー\":\n",
        "        # 「ー」を抜いた変数に置き換える\n",
        "        # 例 ルビー → ルビ\n",
        "            next_noun = next_noun[0:-1]\n",
        "        # 拗音が入っている場合 大文字に変換する\n",
        "        if next_noun[-1] in self.hiragana_you_on_dict.keys():\n",
        "            next_noun[-1] = self.hiragana_you_on_dict.get(next_noun[-1])\n",
        "        #同じ単語を使っていないかを確かめる\n",
        "        if next_noun in self.game_siritori_list:\n",
        "            return f\"返せる言葉がないのだ\\nあなたの勝ち\", FlagType.USER_WIN.value\n",
        "        self.old_noun = next_noun\n",
        "        if self.__is_finish_nn(next_noun):\n",
        "            return next_noun+\"\\n\"+\"「ん」がついたのであなたの勝ち\", FlagType.USER_WIN.value\n",
        "        return next_noun, FlagType.CONTINUE.value\n",
        "    def __is_finish_nn(self, noun: str) -> bool:\n",
        "        if noun[-1] == \"ん\":\n",
        "            return True\n"
      ],
      "metadata": {
        "id": "_qgXYxMul6Er"
      },
      "execution_count": null,
      "outputs": []
    },
    {
      "cell_type": "code",
      "source": [
        "siritori = Siritori(\"output.txt\")\n",
        "while(True):\n",
        "    noun = input(\"YOUR TURN>\")\n",
        "    next_noun, flag = siritori.return_nextnoun(noun)\n",
        "    print(next_noun)\n",
        "    if flag is not FlagType.CONTINUE.value:\n",
        "        break"
      ],
      "metadata": {
        "id": "E-LgbCKqmUBf"
      },
      "execution_count": null,
      "outputs": []
    }
  ]
}